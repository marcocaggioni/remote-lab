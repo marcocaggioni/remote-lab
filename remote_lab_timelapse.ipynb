{
  "nbformat": 4,
  "nbformat_minor": 0,
  "metadata": {
    "colab": {
      "name": "remote_lab_timelapse.ipynb",
      "provenance": [],
      "collapsed_sections": [],
      "authorship_tag": "ABX9TyOYX+MVl63oskDXbRdc6UaM",
      "include_colab_link": true
    },
    "kernelspec": {
      "name": "python3",
      "display_name": "Python 3"
    },
    "language_info": {
      "name": "python"
    },
    "widgets": {
      "application/vnd.jupyter.widget-state+json": {
        "0603f33a0e234bb89513445a2946cdad": {
          "model_module": "jupyter-webrtc",
          "model_name": "CameraStreamModel",
          "model_module_version": "~0.6.0",
          "state": {
            "_dom_classes": [],
            "_model_module": "jupyter-webrtc",
            "_model_module_version": "~0.6.0",
            "_model_name": "CameraStreamModel",
            "_view_count": null,
            "_view_module": "jupyter-webrtc",
            "_view_module_version": "~0.6.0",
            "_view_name": "MediaStreamView",
            "constraints": {
              "facing_mode": "environment",
              "audio": false,
              "video": {
                "width": 640,
                "height": 480
              }
            },
            "layout": "IPY_MODEL_2fda80973d3240468e69fcc4b3ef4c0f"
          }
        },
        "2fda80973d3240468e69fcc4b3ef4c0f": {
          "model_module": "@jupyter-widgets/base",
          "model_name": "LayoutModel",
          "model_module_version": "1.2.0",
          "state": {
            "_model_module": "@jupyter-widgets/base",
            "_model_module_version": "1.2.0",
            "_model_name": "LayoutModel",
            "_view_count": null,
            "_view_module": "@jupyter-widgets/base",
            "_view_module_version": "1.2.0",
            "_view_name": "LayoutView",
            "align_content": null,
            "align_items": null,
            "align_self": null,
            "border": null,
            "bottom": null,
            "display": null,
            "flex": null,
            "flex_flow": null,
            "grid_area": null,
            "grid_auto_columns": null,
            "grid_auto_flow": null,
            "grid_auto_rows": null,
            "grid_column": null,
            "grid_gap": null,
            "grid_row": null,
            "grid_template_areas": null,
            "grid_template_columns": null,
            "grid_template_rows": null,
            "height": null,
            "justify_content": null,
            "justify_items": null,
            "left": null,
            "margin": null,
            "max_height": null,
            "max_width": null,
            "min_height": null,
            "min_width": null,
            "object_fit": null,
            "object_position": null,
            "order": null,
            "overflow": null,
            "overflow_x": null,
            "overflow_y": null,
            "padding": null,
            "right": null,
            "top": null,
            "visibility": null,
            "width": null
          }
        },
        "867594e2a9674c7bb85250769317bcd1": {
          "model_module": "@jupyter-widgets/controls",
          "model_name": "VBoxModel",
          "model_module_version": "1.5.0",
          "state": {
            "_dom_classes": [],
            "_model_module": "@jupyter-widgets/controls",
            "_model_module_version": "1.5.0",
            "_model_name": "VBoxModel",
            "_view_count": null,
            "_view_module": "@jupyter-widgets/controls",
            "_view_module_version": "1.5.0",
            "_view_name": "VBoxView",
            "box_style": "",
            "children": [
              "IPY_MODEL_837d33b6ae4b449aa3a62e5eec00554c",
              "IPY_MODEL_292586f0dec6492bbae88d5b4b751025",
              "IPY_MODEL_8a0c7bfd309741a2addfa873e325542d"
            ],
            "layout": "IPY_MODEL_74ea4139a9a841d6834acb00a8fc2e07"
          }
        },
        "837d33b6ae4b449aa3a62e5eec00554c": {
          "model_module": "@jupyter-widgets/controls",
          "model_name": "TextModel",
          "model_module_version": "1.5.0",
          "state": {
            "_dom_classes": [],
            "_model_module": "@jupyter-widgets/controls",
            "_model_module_version": "1.5.0",
            "_model_name": "TextModel",
            "_view_count": null,
            "_view_module": "@jupyter-widgets/controls",
            "_view_module_version": "1.5.0",
            "_view_name": "TextView",
            "continuous_update": true,
            "description": "exp name",
            "description_tooltip": null,
            "disabled": false,
            "layout": "IPY_MODEL_cc1be7c03eff46abb0882d155d69dcf5",
            "placeholder": "​",
            "style": "IPY_MODEL_1533f5357b4a47099b10e5ddecc73147",
            "value": "test"
          }
        },
        "292586f0dec6492bbae88d5b4b751025": {
          "model_module": "@jupyter-widgets/controls",
          "model_name": "TextModel",
          "model_module_version": "1.5.0",
          "state": {
            "_dom_classes": [],
            "_model_module": "@jupyter-widgets/controls",
            "_model_module_version": "1.5.0",
            "_model_name": "TextModel",
            "_view_count": null,
            "_view_module": "@jupyter-widgets/controls",
            "_view_module_version": "1.5.0",
            "_view_name": "TextView",
            "continuous_update": true,
            "description": "Im number",
            "description_tooltip": null,
            "disabled": false,
            "layout": "IPY_MODEL_d6aa893d3a034052aefd126dfe5b7083",
            "placeholder": "​",
            "style": "IPY_MODEL_48debca85b3a4f478df6ad4118f45652",
            "value": "10"
          }
        },
        "8a0c7bfd309741a2addfa873e325542d": {
          "model_module": "@jupyter-widgets/controls",
          "model_name": "TextModel",
          "model_module_version": "1.5.0",
          "state": {
            "_dom_classes": [],
            "_model_module": "@jupyter-widgets/controls",
            "_model_module_version": "1.5.0",
            "_model_name": "TextModel",
            "_view_count": null,
            "_view_module": "@jupyter-widgets/controls",
            "_view_module_version": "1.5.0",
            "_view_name": "TextView",
            "continuous_update": true,
            "description": "Interval s",
            "description_tooltip": null,
            "disabled": false,
            "layout": "IPY_MODEL_da6f5101288a479d9728c62ad947e649",
            "placeholder": "​",
            "style": "IPY_MODEL_718b29ca20b3437ab8316b956f51e016",
            "value": "1"
          }
        },
        "74ea4139a9a841d6834acb00a8fc2e07": {
          "model_module": "@jupyter-widgets/base",
          "model_name": "LayoutModel",
          "model_module_version": "1.2.0",
          "state": {
            "_model_module": "@jupyter-widgets/base",
            "_model_module_version": "1.2.0",
            "_model_name": "LayoutModel",
            "_view_count": null,
            "_view_module": "@jupyter-widgets/base",
            "_view_module_version": "1.2.0",
            "_view_name": "LayoutView",
            "align_content": null,
            "align_items": null,
            "align_self": null,
            "border": null,
            "bottom": null,
            "display": null,
            "flex": null,
            "flex_flow": null,
            "grid_area": null,
            "grid_auto_columns": null,
            "grid_auto_flow": null,
            "grid_auto_rows": null,
            "grid_column": null,
            "grid_gap": null,
            "grid_row": null,
            "grid_template_areas": null,
            "grid_template_columns": null,
            "grid_template_rows": null,
            "height": null,
            "justify_content": null,
            "justify_items": null,
            "left": null,
            "margin": null,
            "max_height": null,
            "max_width": null,
            "min_height": null,
            "min_width": null,
            "object_fit": null,
            "object_position": null,
            "order": null,
            "overflow": null,
            "overflow_x": null,
            "overflow_y": null,
            "padding": null,
            "right": null,
            "top": null,
            "visibility": null,
            "width": null
          }
        },
        "cc1be7c03eff46abb0882d155d69dcf5": {
          "model_module": "@jupyter-widgets/base",
          "model_name": "LayoutModel",
          "model_module_version": "1.2.0",
          "state": {
            "_model_module": "@jupyter-widgets/base",
            "_model_module_version": "1.2.0",
            "_model_name": "LayoutModel",
            "_view_count": null,
            "_view_module": "@jupyter-widgets/base",
            "_view_module_version": "1.2.0",
            "_view_name": "LayoutView",
            "align_content": null,
            "align_items": null,
            "align_self": null,
            "border": null,
            "bottom": null,
            "display": null,
            "flex": null,
            "flex_flow": null,
            "grid_area": null,
            "grid_auto_columns": null,
            "grid_auto_flow": null,
            "grid_auto_rows": null,
            "grid_column": null,
            "grid_gap": null,
            "grid_row": null,
            "grid_template_areas": null,
            "grid_template_columns": null,
            "grid_template_rows": null,
            "height": null,
            "justify_content": null,
            "justify_items": null,
            "left": null,
            "margin": null,
            "max_height": null,
            "max_width": null,
            "min_height": null,
            "min_width": null,
            "object_fit": null,
            "object_position": null,
            "order": null,
            "overflow": null,
            "overflow_x": null,
            "overflow_y": null,
            "padding": null,
            "right": null,
            "top": null,
            "visibility": null,
            "width": null
          }
        },
        "1533f5357b4a47099b10e5ddecc73147": {
          "model_module": "@jupyter-widgets/controls",
          "model_name": "DescriptionStyleModel",
          "model_module_version": "1.5.0",
          "state": {
            "_model_module": "@jupyter-widgets/controls",
            "_model_module_version": "1.5.0",
            "_model_name": "DescriptionStyleModel",
            "_view_count": null,
            "_view_module": "@jupyter-widgets/base",
            "_view_module_version": "1.2.0",
            "_view_name": "StyleView",
            "description_width": ""
          }
        },
        "d6aa893d3a034052aefd126dfe5b7083": {
          "model_module": "@jupyter-widgets/base",
          "model_name": "LayoutModel",
          "model_module_version": "1.2.0",
          "state": {
            "_model_module": "@jupyter-widgets/base",
            "_model_module_version": "1.2.0",
            "_model_name": "LayoutModel",
            "_view_count": null,
            "_view_module": "@jupyter-widgets/base",
            "_view_module_version": "1.2.0",
            "_view_name": "LayoutView",
            "align_content": null,
            "align_items": null,
            "align_self": null,
            "border": null,
            "bottom": null,
            "display": null,
            "flex": null,
            "flex_flow": null,
            "grid_area": null,
            "grid_auto_columns": null,
            "grid_auto_flow": null,
            "grid_auto_rows": null,
            "grid_column": null,
            "grid_gap": null,
            "grid_row": null,
            "grid_template_areas": null,
            "grid_template_columns": null,
            "grid_template_rows": null,
            "height": null,
            "justify_content": null,
            "justify_items": null,
            "left": null,
            "margin": null,
            "max_height": null,
            "max_width": null,
            "min_height": null,
            "min_width": null,
            "object_fit": null,
            "object_position": null,
            "order": null,
            "overflow": null,
            "overflow_x": null,
            "overflow_y": null,
            "padding": null,
            "right": null,
            "top": null,
            "visibility": null,
            "width": null
          }
        },
        "48debca85b3a4f478df6ad4118f45652": {
          "model_module": "@jupyter-widgets/controls",
          "model_name": "DescriptionStyleModel",
          "model_module_version": "1.5.0",
          "state": {
            "_model_module": "@jupyter-widgets/controls",
            "_model_module_version": "1.5.0",
            "_model_name": "DescriptionStyleModel",
            "_view_count": null,
            "_view_module": "@jupyter-widgets/base",
            "_view_module_version": "1.2.0",
            "_view_name": "StyleView",
            "description_width": ""
          }
        },
        "da6f5101288a479d9728c62ad947e649": {
          "model_module": "@jupyter-widgets/base",
          "model_name": "LayoutModel",
          "model_module_version": "1.2.0",
          "state": {
            "_model_module": "@jupyter-widgets/base",
            "_model_module_version": "1.2.0",
            "_model_name": "LayoutModel",
            "_view_count": null,
            "_view_module": "@jupyter-widgets/base",
            "_view_module_version": "1.2.0",
            "_view_name": "LayoutView",
            "align_content": null,
            "align_items": null,
            "align_self": null,
            "border": null,
            "bottom": null,
            "display": null,
            "flex": null,
            "flex_flow": null,
            "grid_area": null,
            "grid_auto_columns": null,
            "grid_auto_flow": null,
            "grid_auto_rows": null,
            "grid_column": null,
            "grid_gap": null,
            "grid_row": null,
            "grid_template_areas": null,
            "grid_template_columns": null,
            "grid_template_rows": null,
            "height": null,
            "justify_content": null,
            "justify_items": null,
            "left": null,
            "margin": null,
            "max_height": null,
            "max_width": null,
            "min_height": null,
            "min_width": null,
            "object_fit": null,
            "object_position": null,
            "order": null,
            "overflow": null,
            "overflow_x": null,
            "overflow_y": null,
            "padding": null,
            "right": null,
            "top": null,
            "visibility": null,
            "width": null
          }
        },
        "718b29ca20b3437ab8316b956f51e016": {
          "model_module": "@jupyter-widgets/controls",
          "model_name": "DescriptionStyleModel",
          "model_module_version": "1.5.0",
          "state": {
            "_model_module": "@jupyter-widgets/controls",
            "_model_module_version": "1.5.0",
            "_model_name": "DescriptionStyleModel",
            "_view_count": null,
            "_view_module": "@jupyter-widgets/base",
            "_view_module_version": "1.2.0",
            "_view_name": "StyleView",
            "description_width": ""
          }
        },
        "d9ae4c8c7d10487eb6910e4d8c1fcecb": {
          "model_module": "@jupyter-widgets/controls",
          "model_name": "VBoxModel",
          "model_module_version": "1.5.0",
          "state": {
            "_dom_classes": [],
            "_model_module": "@jupyter-widgets/controls",
            "_model_module_version": "1.5.0",
            "_model_name": "VBoxModel",
            "_view_count": null,
            "_view_module": "@jupyter-widgets/controls",
            "_view_module_version": "1.5.0",
            "_view_name": "VBoxView",
            "box_style": "",
            "children": [
              "IPY_MODEL_dcfd1deddc1d4fe6bf4926184a609615",
              "IPY_MODEL_5b451af5fac649519afd4d697d4669a2"
            ],
            "layout": "IPY_MODEL_62d9ef92222541dfa43c4d38f7a243ef"
          }
        },
        "dcfd1deddc1d4fe6bf4926184a609615": {
          "model_module": "jupyter-webrtc",
          "model_name": "ImageRecorderModel",
          "model_module_version": "~0.6.0",
          "state": {
            "_data_src": "blob:https://jknqk6df5r-496ff2e9c6d22116-0-colab.googleusercontent.com/64748eac-cde0-4254-9537-18989285214c",
            "_dom_classes": [],
            "_height": "480px",
            "_model_module": "jupyter-webrtc",
            "_model_module_version": "~0.6.0",
            "_model_name": "ImageRecorderModel",
            "_view_count": null,
            "_view_module": "jupyter-webrtc",
            "_view_module_version": "~0.6.0",
            "_view_name": "ImageRecorderView",
            "_width": "640px",
            "autosave": false,
            "filename": "record",
            "format": "png",
            "image": "IPY_MODEL_a954b05b7dba43fe9623124587a35cdc",
            "layout": "IPY_MODEL_da1a2b11046544c7a386a1791c20b7b7",
            "recording": false,
            "stream": "IPY_MODEL_0603f33a0e234bb89513445a2946cdad"
          }
        },
        "5b451af5fac649519afd4d697d4669a2": {
          "model_module": "@jupyter-widgets/output",
          "model_name": "OutputModel",
          "model_module_version": "1.0.0",
          "state": {
            "_dom_classes": [],
            "_model_module": "@jupyter-widgets/output",
            "_model_module_version": "1.0.0",
            "_model_name": "OutputModel",
            "_view_count": null,
            "_view_module": "@jupyter-widgets/output",
            "_view_module_version": "1.0.0",
            "_view_name": "OutputView",
            "layout": "IPY_MODEL_4568d49218cb42b4a9ec26866cf5c2c5",
            "msg_id": "",
            "outputs": [
              {
                "output_type": "stream",
                "name": "stdout",
                "text": "test0 captured \n"
              },
              {
                "output_type": "stream",
                "name": "stdout",
                "text": "test1 captured \n"
              },
              {
                "output_type": "stream",
                "name": "stdout",
                "text": "test2 captured \n"
              },
              {
                "output_type": "stream",
                "name": "stdout",
                "text": "test3 captured \n"
              },
              {
                "output_type": "stream",
                "name": "stdout",
                "text": "test4 captured \n"
              },
              {
                "output_type": "stream",
                "name": "stdout",
                "text": "test5 captured \n"
              },
              {
                "output_type": "stream",
                "name": "stdout",
                "text": "test6 captured \n"
              },
              {
                "output_type": "stream",
                "name": "stdout",
                "text": "test7 captured \n"
              },
              {
                "output_type": "stream",
                "name": "stdout",
                "text": "test8 captured \n"
              },
              {
                "output_type": "stream",
                "name": "stdout",
                "text": "test9 captured \n"
              }
            ]
          }
        },
        "62d9ef92222541dfa43c4d38f7a243ef": {
          "model_module": "@jupyter-widgets/base",
          "model_name": "LayoutModel",
          "model_module_version": "1.2.0",
          "state": {
            "_model_module": "@jupyter-widgets/base",
            "_model_module_version": "1.2.0",
            "_model_name": "LayoutModel",
            "_view_count": null,
            "_view_module": "@jupyter-widgets/base",
            "_view_module_version": "1.2.0",
            "_view_name": "LayoutView",
            "align_content": null,
            "align_items": null,
            "align_self": null,
            "border": null,
            "bottom": null,
            "display": null,
            "flex": null,
            "flex_flow": null,
            "grid_area": null,
            "grid_auto_columns": null,
            "grid_auto_flow": null,
            "grid_auto_rows": null,
            "grid_column": null,
            "grid_gap": null,
            "grid_row": null,
            "grid_template_areas": null,
            "grid_template_columns": null,
            "grid_template_rows": null,
            "height": null,
            "justify_content": null,
            "justify_items": null,
            "left": null,
            "margin": null,
            "max_height": null,
            "max_width": null,
            "min_height": null,
            "min_width": null,
            "object_fit": null,
            "object_position": null,
            "order": null,
            "overflow": null,
            "overflow_x": null,
            "overflow_y": null,
            "padding": null,
            "right": null,
            "top": null,
            "visibility": null,
            "width": null
          }
        },
        "4568d49218cb42b4a9ec26866cf5c2c5": {
          "model_module": "@jupyter-widgets/base",
          "model_name": "LayoutModel",
          "model_module_version": "1.2.0",
          "state": {
            "_model_module": "@jupyter-widgets/base",
            "_model_module_version": "1.2.0",
            "_model_name": "LayoutModel",
            "_view_count": null,
            "_view_module": "@jupyter-widgets/base",
            "_view_module_version": "1.2.0",
            "_view_name": "LayoutView",
            "align_content": null,
            "align_items": null,
            "align_self": null,
            "border": null,
            "bottom": null,
            "display": null,
            "flex": null,
            "flex_flow": null,
            "grid_area": null,
            "grid_auto_columns": null,
            "grid_auto_flow": null,
            "grid_auto_rows": null,
            "grid_column": null,
            "grid_gap": null,
            "grid_row": null,
            "grid_template_areas": null,
            "grid_template_columns": null,
            "grid_template_rows": null,
            "height": null,
            "justify_content": null,
            "justify_items": null,
            "left": null,
            "margin": null,
            "max_height": null,
            "max_width": null,
            "min_height": null,
            "min_width": null,
            "object_fit": null,
            "object_position": null,
            "order": null,
            "overflow": null,
            "overflow_x": null,
            "overflow_y": null,
            "padding": null,
            "right": null,
            "top": null,
            "visibility": null,
            "width": null
          }
        },
        "a954b05b7dba43fe9623124587a35cdc": {
          "model_module": "@jupyter-widgets/controls",
          "model_name": "ImageModel",
          "model_module_version": "1.5.0",
          "state": {
            "_dom_classes": [],
            "_model_module": "@jupyter-widgets/controls",
            "_model_module_version": "1.5.0",
            "_model_name": "ImageModel",
            "_view_count": null,
            "_view_module": "@jupyter-widgets/controls",
            "_view_module_version": "1.5.0",
            "_view_name": "ImageView",
            "format": "png",
            "height": "480px",
            "layout": "IPY_MODEL_21ac2582b4af47569ea7d1a590106d68",
            "width": "640px"
          }
        },
        "da1a2b11046544c7a386a1791c20b7b7": {
          "model_module": "@jupyter-widgets/base",
          "model_name": "LayoutModel",
          "model_module_version": "1.2.0",
          "state": {
            "_model_module": "@jupyter-widgets/base",
            "_model_module_version": "1.2.0",
            "_model_name": "LayoutModel",
            "_view_count": null,
            "_view_module": "@jupyter-widgets/base",
            "_view_module_version": "1.2.0",
            "_view_name": "LayoutView",
            "align_content": null,
            "align_items": null,
            "align_self": null,
            "border": null,
            "bottom": null,
            "display": null,
            "flex": null,
            "flex_flow": null,
            "grid_area": null,
            "grid_auto_columns": null,
            "grid_auto_flow": null,
            "grid_auto_rows": null,
            "grid_column": null,
            "grid_gap": null,
            "grid_row": null,
            "grid_template_areas": null,
            "grid_template_columns": null,
            "grid_template_rows": null,
            "height": null,
            "justify_content": null,
            "justify_items": null,
            "left": null,
            "margin": null,
            "max_height": null,
            "max_width": null,
            "min_height": null,
            "min_width": null,
            "object_fit": null,
            "object_position": null,
            "order": null,
            "overflow": null,
            "overflow_x": null,
            "overflow_y": null,
            "padding": null,
            "right": null,
            "top": null,
            "visibility": null,
            "width": null
          }
        },
        "21ac2582b4af47569ea7d1a590106d68": {
          "model_module": "@jupyter-widgets/base",
          "model_name": "LayoutModel",
          "model_module_version": "1.2.0",
          "state": {
            "_model_module": "@jupyter-widgets/base",
            "_model_module_version": "1.2.0",
            "_model_name": "LayoutModel",
            "_view_count": null,
            "_view_module": "@jupyter-widgets/base",
            "_view_module_version": "1.2.0",
            "_view_name": "LayoutView",
            "align_content": null,
            "align_items": null,
            "align_self": null,
            "border": null,
            "bottom": null,
            "display": null,
            "flex": null,
            "flex_flow": null,
            "grid_area": null,
            "grid_auto_columns": null,
            "grid_auto_flow": null,
            "grid_auto_rows": null,
            "grid_column": null,
            "grid_gap": null,
            "grid_row": null,
            "grid_template_areas": null,
            "grid_template_columns": null,
            "grid_template_rows": null,
            "height": null,
            "justify_content": null,
            "justify_items": null,
            "left": null,
            "margin": null,
            "max_height": null,
            "max_width": null,
            "min_height": null,
            "min_width": null,
            "object_fit": null,
            "object_position": null,
            "order": null,
            "overflow": null,
            "overflow_x": null,
            "overflow_y": null,
            "padding": null,
            "right": null,
            "top": null,
            "visibility": null,
            "width": null
          }
        },
        "a73840c45a3947d39ae25e30b9c58a69": {
          "model_module": "@jupyter-widgets/controls",
          "model_name": "VBoxModel",
          "model_module_version": "1.5.0",
          "state": {
            "_dom_classes": [],
            "_model_module": "@jupyter-widgets/controls",
            "_model_module_version": "1.5.0",
            "_model_name": "VBoxModel",
            "_view_count": null,
            "_view_module": "@jupyter-widgets/controls",
            "_view_module_version": "1.5.0",
            "_view_name": "VBoxView",
            "box_style": "",
            "children": [
              "IPY_MODEL_c926891416bb4d6aa9c738a47c9b6b47",
              "IPY_MODEL_82349233fc3b40efacc28a1c1731d91b"
            ],
            "layout": "IPY_MODEL_20c0004acb554d3bafd6ed2153917004"
          }
        },
        "c926891416bb4d6aa9c738a47c9b6b47": {
          "model_module": "@jupyter-widgets/controls",
          "model_name": "ButtonModel",
          "model_module_version": "1.5.0",
          "state": {
            "_dom_classes": [],
            "_model_module": "@jupyter-widgets/controls",
            "_model_module_version": "1.5.0",
            "_model_name": "ButtonModel",
            "_view_count": null,
            "_view_module": "@jupyter-widgets/controls",
            "_view_module_version": "1.5.0",
            "_view_name": "ButtonView",
            "button_style": "",
            "description": "Make Video",
            "disabled": false,
            "icon": "",
            "layout": "IPY_MODEL_aa740228e45847c3aecab60169026d1f",
            "style": "IPY_MODEL_995c1fcb4aaa4bc89d90b8c5e6076f53",
            "tooltip": ""
          }
        },
        "82349233fc3b40efacc28a1c1731d91b": {
          "model_module": "@jupyter-widgets/output",
          "model_name": "OutputModel",
          "model_module_version": "1.0.0",
          "state": {
            "_dom_classes": [],
            "_model_module": "@jupyter-widgets/output",
            "_model_module_version": "1.0.0",
            "_model_name": "OutputModel",
            "_view_count": null,
            "_view_module": "@jupyter-widgets/output",
            "_view_module_version": "1.0.0",
            "_view_name": "OutputView",
            "layout": "IPY_MODEL_037ed6c9f028498482254ab15a2b8b76",
            "msg_id": "",
            "outputs": [
              {
                "output_type": "display_data",
                "data": {
                  "text/plain": "<IPython.core.display.HTML object>",
                  "text/html": "\n        <video width=400 controls>\n              <source src=\"data:video/mp4;base64,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\" type=\"video/mp4\">\n        </video>\n        "
                },
                "metadata": {}
              }
            ]
          }
        },
        "20c0004acb554d3bafd6ed2153917004": {
          "model_module": "@jupyter-widgets/base",
          "model_name": "LayoutModel",
          "model_module_version": "1.2.0",
          "state": {
            "_model_module": "@jupyter-widgets/base",
            "_model_module_version": "1.2.0",
            "_model_name": "LayoutModel",
            "_view_count": null,
            "_view_module": "@jupyter-widgets/base",
            "_view_module_version": "1.2.0",
            "_view_name": "LayoutView",
            "align_content": null,
            "align_items": null,
            "align_self": null,
            "border": null,
            "bottom": null,
            "display": null,
            "flex": null,
            "flex_flow": null,
            "grid_area": null,
            "grid_auto_columns": null,
            "grid_auto_flow": null,
            "grid_auto_rows": null,
            "grid_column": null,
            "grid_gap": null,
            "grid_row": null,
            "grid_template_areas": null,
            "grid_template_columns": null,
            "grid_template_rows": null,
            "height": null,
            "justify_content": null,
            "justify_items": null,
            "left": null,
            "margin": null,
            "max_height": null,
            "max_width": null,
            "min_height": null,
            "min_width": null,
            "object_fit": null,
            "object_position": null,
            "order": null,
            "overflow": null,
            "overflow_x": null,
            "overflow_y": null,
            "padding": null,
            "right": null,
            "top": null,
            "visibility": null,
            "width": null
          }
        },
        "aa740228e45847c3aecab60169026d1f": {
          "model_module": "@jupyter-widgets/base",
          "model_name": "LayoutModel",
          "model_module_version": "1.2.0",
          "state": {
            "_model_module": "@jupyter-widgets/base",
            "_model_module_version": "1.2.0",
            "_model_name": "LayoutModel",
            "_view_count": null,
            "_view_module": "@jupyter-widgets/base",
            "_view_module_version": "1.2.0",
            "_view_name": "LayoutView",
            "align_content": null,
            "align_items": null,
            "align_self": null,
            "border": null,
            "bottom": null,
            "display": null,
            "flex": null,
            "flex_flow": null,
            "grid_area": null,
            "grid_auto_columns": null,
            "grid_auto_flow": null,
            "grid_auto_rows": null,
            "grid_column": null,
            "grid_gap": null,
            "grid_row": null,
            "grid_template_areas": null,
            "grid_template_columns": null,
            "grid_template_rows": null,
            "height": null,
            "justify_content": null,
            "justify_items": null,
            "left": null,
            "margin": null,
            "max_height": null,
            "max_width": null,
            "min_height": null,
            "min_width": null,
            "object_fit": null,
            "object_position": null,
            "order": null,
            "overflow": null,
            "overflow_x": null,
            "overflow_y": null,
            "padding": null,
            "right": null,
            "top": null,
            "visibility": null,
            "width": null
          }
        },
        "995c1fcb4aaa4bc89d90b8c5e6076f53": {
          "model_module": "@jupyter-widgets/controls",
          "model_name": "ButtonStyleModel",
          "model_module_version": "1.5.0",
          "state": {
            "_model_module": "@jupyter-widgets/controls",
            "_model_module_version": "1.5.0",
            "_model_name": "ButtonStyleModel",
            "_view_count": null,
            "_view_module": "@jupyter-widgets/base",
            "_view_module_version": "1.2.0",
            "_view_name": "StyleView",
            "button_color": null,
            "font_weight": ""
          }
        },
        "037ed6c9f028498482254ab15a2b8b76": {
          "model_module": "@jupyter-widgets/base",
          "model_name": "LayoutModel",
          "model_module_version": "1.2.0",
          "state": {
            "_model_module": "@jupyter-widgets/base",
            "_model_module_version": "1.2.0",
            "_model_name": "LayoutModel",
            "_view_count": null,
            "_view_module": "@jupyter-widgets/base",
            "_view_module_version": "1.2.0",
            "_view_name": "LayoutView",
            "align_content": null,
            "align_items": null,
            "align_self": null,
            "border": null,
            "bottom": null,
            "display": null,
            "flex": null,
            "flex_flow": null,
            "grid_area": null,
            "grid_auto_columns": null,
            "grid_auto_flow": null,
            "grid_auto_rows": null,
            "grid_column": null,
            "grid_gap": null,
            "grid_row": null,
            "grid_template_areas": null,
            "grid_template_columns": null,
            "grid_template_rows": null,
            "height": null,
            "justify_content": null,
            "justify_items": null,
            "left": null,
            "margin": null,
            "max_height": null,
            "max_width": null,
            "min_height": null,
            "min_width": null,
            "object_fit": null,
            "object_position": null,
            "order": null,
            "overflow": null,
            "overflow_x": null,
            "overflow_y": null,
            "padding": null,
            "right": null,
            "top": null,
            "visibility": null,
            "width": null
          }
        }
      }
    }
  },
  "cells": [
    {
      "cell_type": "markdown",
      "metadata": {
        "id": "view-in-github",
        "colab_type": "text"
      },
      "source": [
        "<a href=\"https://colab.research.google.com/github/marcocaggioni/remote-lab/blob/main/remote_lab_timelapse.ipynb\" target=\"_parent\"><img src=\"https://colab.research.google.com/assets/colab-badge.svg\" alt=\"Open In Colab\"/></a>"
      ]
    },
    {
      "cell_type": "markdown",
      "source": [
        "# Remote lab"
      ],
      "metadata": {
        "id": "r_SMeIcnnEg9"
      }
    },
    {
      "cell_type": "code",
      "source": [
        "!pip install ipywebrtc\n",
        "!pip install humanize --upgrade"
      ],
      "metadata": {
        "colab": {
          "base_uri": "https://localhost:8080/"
        },
        "id": "KyQVqu22YEVv",
        "outputId": "e9201062-e1b1-4212-baa7-fb8ae7e632e1"
      },
      "execution_count": 43,
      "outputs": [
        {
          "output_type": "stream",
          "name": "stdout",
          "text": [
            "Looking in indexes: https://pypi.org/simple, https://us-python.pkg.dev/colab-wheels/public/simple/\n",
            "Requirement already satisfied: ipywebrtc in /usr/local/lib/python3.7/dist-packages (0.6.0)\n",
            "Looking in indexes: https://pypi.org/simple, https://us-python.pkg.dev/colab-wheels/public/simple/\n",
            "Requirement already satisfied: humanize in /usr/local/lib/python3.7/dist-packages (4.2.3)\n",
            "Requirement already satisfied: importlib-metadata in /usr/local/lib/python3.7/dist-packages (from humanize) (4.12.0)\n",
            "Requirement already satisfied: typing-extensions>=3.6.4 in /usr/local/lib/python3.7/dist-packages (from importlib-metadata->humanize) (4.1.1)\n",
            "Requirement already satisfied: zipp>=0.5 in /usr/local/lib/python3.7/dist-packages (from importlib-metadata->humanize) (3.8.1)\n"
          ]
        }
      ]
    },
    {
      "cell_type": "code",
      "execution_count": 44,
      "metadata": {
        "id": "dVe2VwctX6Sk"
      },
      "outputs": [],
      "source": [
        "import io\n",
        "import time\n",
        "\n",
        "import PIL.Image\n",
        "import PIL.ImageFilter\n",
        "from IPython.display import FileLink, display\n",
        "from ipywebrtc import CameraStream, ImageRecorder\n",
        "from ipywidgets import Button, Output, VBox, Text\n",
        "\n",
        "from google.colab import output\n",
        "output.enable_custom_widget_manager()\n",
        "\n",
        "from IPython.display import HTML\n",
        "from base64 import b64encode\n",
        "import os"
      ]
    },
    {
      "cell_type": "code",
      "source": [
        "from IPython.core.display import clear_output\n",
        "camera = CameraStream(\n",
        "    constraints={\n",
        "        \"facing_mode\": \"environment\",\n",
        "        \"audio\": False,\n",
        "        \"video\": {\"width\": 640, \"height\": 480},\n",
        "    }\n",
        ")"
      ],
      "metadata": {
        "id": "OkY1xbYfYKSw"
      },
      "execution_count": 45,
      "outputs": []
    },
    {
      "cell_type": "code",
      "source": [
        "numimage_wid=Text(description='Im number', value='10')\n",
        "interval_wid=Text(description='Interval s', value='1')\n",
        "exp_name_wid=Text(description='exp name', value='test')"
      ],
      "metadata": {
        "id": "ZPptZaZLYWXh"
      },
      "execution_count": 46,
      "outputs": []
    },
    {
      "cell_type": "code",
      "source": [
        "recorder = ImageRecorder(stream=camera)\n",
        "out = Output()\n",
        "\n",
        "numImage=0\n",
        "\n",
        "def savePicture(_):\n",
        "    with out:\n",
        "        global numImage\n",
        "        global numImages\n",
        "        numImages=int(numimage_wid.value)\n",
        "        \n",
        "        if numImage >= numImages:\n",
        "            return\n",
        "\n",
        "        interval=int(interval_wid.value)\n",
        "        \n",
        "        recorder.recording = True\n",
        "        out.append_stdout(f\"{exp_name_wid.value}\" + str(numImage) + \" captured \\n\")\n",
        "        recorder.save(exp_name_wid.value + str(numImage) + \".png\")\n",
        "        numImage = numImage + 1\n",
        "        time.sleep(interval)\n",
        "\n",
        "\n",
        "recorder.image.observe(savePicture, names=[\"value\"])"
      ],
      "metadata": {
        "id": "a62f6hPxYcEX"
      },
      "execution_count": 47,
      "outputs": []
    },
    {
      "cell_type": "code",
      "source": [
        "l1=[0,1,2,3,4,5]\n",
        "l2=[5,4,3,2,1,0]\n",
        "\n",
        "\n",
        "list1, list2 = zip(*sorted(zip(l1, l2)))\n",
        "print(list1)\n",
        "print(list2)"
      ],
      "metadata": {
        "id": "enreV28DhYNT",
        "outputId": "8f34d700-c3d7-487d-c134-fa8ed01eb842",
        "colab": {
          "base_uri": "https://localhost:8080/"
        }
      },
      "execution_count": 48,
      "outputs": [
        {
          "output_type": "stream",
          "name": "stdout",
          "text": [
            "(0, 1, 2, 3, 4, 5)\n",
            "(5, 4, 3, 2, 1, 0)\n"
          ]
        }
      ]
    },
    {
      "cell_type": "code",
      "source": [
        "import datetime\n",
        "from pathlib import Path\n",
        "#from IPython.display import Video\n",
        "import os\n",
        "\n",
        "import numpy as np\n",
        "from moviepy.editor import *\n",
        "from PIL import Image, ImageDraw, ImageFont\n",
        "import humanize\n",
        "\n",
        "video_out = Output()\n",
        "\n",
        "\n",
        "def make_video(object):\n",
        "\n",
        "    files = list(Path(\"./\").glob(f\"{exp_name_wid.value}*.png\"))\n",
        "    times = [datetime.datetime.fromtimestamp(file.stat().st_mtime) for file in files]\n",
        "    times = list(map(lambda x: x - times[0], times))\n",
        "\n",
        "    times, files = zip(*sorted(zip(times, files)))\n",
        "\n",
        "\n",
        "    font = ImageFont.truetype(\"/usr/share/fonts/truetype/humor-sans/Humor-Sans.ttf\", 40)\n",
        "\n",
        "    clips = []\n",
        "    for file, t in zip(files, times):\n",
        "        img = Image.open(file)\n",
        "        time_stamp = humanize.time.precisedelta(t, minimum_unit=\"seconds\")\n",
        "\n",
        "        ImageDraw.Draw(img).text((0, 0), time_stamp,font=font)\n",
        "        clip = ImageClip(np.array(img), duration=0.1)\n",
        "        clips.append(clip)\n",
        "\n",
        "    concat_clip = concatenate_videoclips(clips, method=\"compose\")\n",
        "    \n",
        "    concat_clip.write_videofile(f\"{exp_name_wid.value}.mp4\", fps=24)\n",
        "\n",
        "\n",
        "    with video_out:\n",
        "        mp4 = open(f\"{exp_name_wid.value}.mp4\",'rb').read()\n",
        "        data_url = \"data:video/mp4;base64,\" + b64encode(mp4).decode()\n",
        "        display(HTML(\"\"\"\n",
        "        <video width=400 controls>\n",
        "              <source src=\"%s\" type=\"video/mp4\">\n",
        "        </video>\n",
        "        \"\"\" % data_url))\n",
        "\n",
        "make_video_button = Button(description=\"Make Video\")\n",
        "make_video_button.on_click(make_video)"
      ],
      "metadata": {
        "id": "yU8wlKcVYdng"
      },
      "execution_count": 54,
      "outputs": []
    },
    {
      "cell_type": "markdown",
      "source": [
        "# User input"
      ],
      "metadata": {
        "id": "fD4E0fNioPYU"
      }
    },
    {
      "cell_type": "code",
      "source": [
        "camera"
      ],
      "metadata": {
        "colab": {
          "base_uri": "https://localhost:8080/",
          "height": 505,
          "referenced_widgets": [
            "0603f33a0e234bb89513445a2946cdad",
            "2fda80973d3240468e69fcc4b3ef4c0f"
          ]
        },
        "id": "mismhPaaoWab",
        "outputId": "117349ef-3c2b-4b6f-9138-5a8cf3664728"
      },
      "execution_count": 50,
      "outputs": [
        {
          "output_type": "display_data",
          "data": {
            "text/plain": [
              "CameraStream(constraints={'facing_mode': 'environment', 'audio': False, 'video': {'width': 640, 'height': 480}…"
            ],
            "application/vnd.jupyter.widget-view+json": {
              "version_major": 2,
              "version_minor": 0,
              "model_id": "0603f33a0e234bb89513445a2946cdad"
            }
          },
          "metadata": {
            "application/vnd.jupyter.widget-view+json": {
              "colab": {
                "custom_widget_manager": {
                  "url": "https://ssl.gstatic.com/colaboratory-static/widgets/colab-cdn-widget-manager/d2e234f7cc04bf79/manager.min.js"
                }
              }
            }
          }
        }
      ]
    },
    {
      "cell_type": "code",
      "source": [
        "display(VBox([exp_name_wid,numimage_wid,interval_wid]))"
      ],
      "metadata": {
        "colab": {
          "base_uri": "https://localhost:8080/",
          "height": 113,
          "referenced_widgets": [
            "867594e2a9674c7bb85250769317bcd1",
            "837d33b6ae4b449aa3a62e5eec00554c",
            "292586f0dec6492bbae88d5b4b751025",
            "8a0c7bfd309741a2addfa873e325542d",
            "74ea4139a9a841d6834acb00a8fc2e07",
            "cc1be7c03eff46abb0882d155d69dcf5",
            "1533f5357b4a47099b10e5ddecc73147",
            "d6aa893d3a034052aefd126dfe5b7083",
            "48debca85b3a4f478df6ad4118f45652",
            "da6f5101288a479d9728c62ad947e649",
            "718b29ca20b3437ab8316b956f51e016"
          ]
        },
        "id": "xhfNzXgUnz_s",
        "outputId": "d020fd30-de51-4c6b-8b43-8e9341706810"
      },
      "execution_count": 51,
      "outputs": [
        {
          "output_type": "display_data",
          "data": {
            "text/plain": [
              "VBox(children=(Text(value='test', description='exp name'), Text(value='10', description='Im number'), Text(val…"
            ],
            "application/vnd.jupyter.widget-view+json": {
              "version_major": 2,
              "version_minor": 0,
              "model_id": "867594e2a9674c7bb85250769317bcd1"
            }
          },
          "metadata": {
            "application/vnd.jupyter.widget-view+json": {
              "colab": {
                "custom_widget_manager": {
                  "url": "https://ssl.gstatic.com/colaboratory-static/widgets/colab-cdn-widget-manager/d2e234f7cc04bf79/manager.min.js"
                }
              }
            }
          }
        }
      ]
    },
    {
      "cell_type": "code",
      "source": [
        "VBox([recorder, out])"
      ],
      "metadata": {
        "colab": {
          "base_uri": "https://localhost:8080/",
          "height": 707,
          "referenced_widgets": [
            "d9ae4c8c7d10487eb6910e4d8c1fcecb",
            "dcfd1deddc1d4fe6bf4926184a609615",
            "5b451af5fac649519afd4d697d4669a2",
            "62d9ef92222541dfa43c4d38f7a243ef",
            "4568d49218cb42b4a9ec26866cf5c2c5",
            "a954b05b7dba43fe9623124587a35cdc",
            "da1a2b11046544c7a386a1791c20b7b7",
            "0603f33a0e234bb89513445a2946cdad",
            "21ac2582b4af47569ea7d1a590106d68",
            "2fda80973d3240468e69fcc4b3ef4c0f"
          ]
        },
        "id": "zcfXh54yn9Ay",
        "outputId": "9b507f13-8141-4890-ce5d-37cfb6a0bfe4"
      },
      "execution_count": 52,
      "outputs": [
        {
          "output_type": "display_data",
          "data": {
            "text/plain": [
              "VBox(children=(ImageRecorder(image=Image(value=b''), stream=CameraStream(constraints={'facing_mode': 'environm…"
            ],
            "application/vnd.jupyter.widget-view+json": {
              "version_major": 2,
              "version_minor": 0,
              "model_id": "d9ae4c8c7d10487eb6910e4d8c1fcecb"
            }
          },
          "metadata": {
            "application/vnd.jupyter.widget-view+json": {
              "colab": {
                "custom_widget_manager": {
                  "url": "https://ssl.gstatic.com/colaboratory-static/widgets/colab-cdn-widget-manager/d2e234f7cc04bf79/manager.min.js"
                }
              }
            }
          }
        }
      ]
    },
    {
      "cell_type": "code",
      "source": [
        "VBox([make_video_button, video_out])"
      ],
      "metadata": {
        "colab": {
          "base_uri": "https://localhost:8080/",
          "height": 457,
          "referenced_widgets": [
            "a73840c45a3947d39ae25e30b9c58a69",
            "c926891416bb4d6aa9c738a47c9b6b47",
            "82349233fc3b40efacc28a1c1731d91b",
            "20c0004acb554d3bafd6ed2153917004",
            "aa740228e45847c3aecab60169026d1f",
            "995c1fcb4aaa4bc89d90b8c5e6076f53",
            "037ed6c9f028498482254ab15a2b8b76"
          ]
        },
        "id": "iuI2euKzceUK",
        "outputId": "d5898f02-1902-409b-c8ea-e4a6849b4a55"
      },
      "execution_count": 55,
      "outputs": [
        {
          "output_type": "display_data",
          "data": {
            "text/plain": [
              "VBox(children=(Button(description='Make Video', style=ButtonStyle()), Output()))"
            ],
            "application/vnd.jupyter.widget-view+json": {
              "version_major": 2,
              "version_minor": 0,
              "model_id": "a73840c45a3947d39ae25e30b9c58a69"
            }
          },
          "metadata": {
            "application/vnd.jupyter.widget-view+json": {
              "colab": {
                "custom_widget_manager": {
                  "url": "https://ssl.gstatic.com/colaboratory-static/widgets/colab-cdn-widget-manager/d2e234f7cc04bf79/manager.min.js"
                }
              }
            }
          }
        },
        {
          "output_type": "stream",
          "name": "stdout",
          "text": [
            "[MoviePy] >>>> Building video test.mp4\n",
            "[MoviePy] Writing video test.mp4\n"
          ]
        },
        {
          "output_type": "stream",
          "name": "stderr",
          "text": [
            "100%|██████████| 24/24 [00:00<00:00, 46.14it/s]\n"
          ]
        },
        {
          "output_type": "stream",
          "name": "stdout",
          "text": [
            "[MoviePy] Done.\n",
            "[MoviePy] >>>> Video ready: test.mp4 \n",
            "\n"
          ]
        }
      ]
    },
    {
      "cell_type": "code",
      "source": [
        "!rm *.png"
      ],
      "metadata": {
        "id": "OQBad1iyo6iw"
      },
      "execution_count": null,
      "outputs": []
    },
    {
      "cell_type": "code",
      "source": [
        ""
      ],
      "metadata": {
        "id": "mj9q7opywL3g"
      },
      "execution_count": null,
      "outputs": []
    }
  ]
}